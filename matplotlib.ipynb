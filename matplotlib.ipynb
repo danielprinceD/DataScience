{
 "cells": [
  {
   "cell_type": "code",
   "execution_count": 1,
   "metadata": {},
   "outputs": [
    {
     "name": "stdout",
     "output_type": "stream",
     "text": [
      "Collecting matplotlib\n",
      "  Downloading matplotlib-3.9.1-cp39-cp39-win_amd64.whl.metadata (11 kB)\n",
      "Collecting contourpy>=1.0.1 (from matplotlib)\n",
      "  Downloading contourpy-1.2.1-cp39-cp39-win_amd64.whl.metadata (5.8 kB)\n",
      "Collecting cycler>=0.10 (from matplotlib)\n",
      "  Using cached cycler-0.12.1-py3-none-any.whl.metadata (3.8 kB)\n",
      "Collecting fonttools>=4.22.0 (from matplotlib)\n",
      "  Downloading fonttools-4.53.1-cp39-cp39-win_amd64.whl.metadata (165 kB)\n",
      "     ---------------------------------------- 0.0/165.9 kB ? eta -:--:--\n",
      "     ------- ------------------------------- 30.7/165.9 kB 1.3 MB/s eta 0:00:01\n",
      "     ------------------------- ------------ 112.6/165.9 kB 1.3 MB/s eta 0:00:01\n",
      "     -------------------------------------- 165.9/165.9 kB 1.1 MB/s eta 0:00:00\n",
      "Collecting kiwisolver>=1.3.1 (from matplotlib)\n",
      "  Downloading kiwisolver-1.4.5-cp39-cp39-win_amd64.whl.metadata (6.5 kB)\n",
      "Collecting numpy>=1.23 (from matplotlib)\n",
      "  Downloading numpy-2.0.0-cp39-cp39-win_amd64.whl.metadata (60 kB)\n",
      "     ---------------------------------------- 0.0/60.9 kB ? eta -:--:--\n",
      "     ---------------------------------------- 60.9/60.9 kB 1.6 MB/s eta 0:00:00\n",
      "Requirement already satisfied: packaging>=20.0 in c:\\programdata\\anaconda3\\envs\\datascience\\lib\\site-packages (from matplotlib) (24.1)\n",
      "Collecting pillow>=8 (from matplotlib)\n",
      "  Downloading pillow-10.4.0-cp39-cp39-win_amd64.whl.metadata (9.3 kB)\n",
      "Collecting pyparsing>=2.3.1 (from matplotlib)\n",
      "  Using cached pyparsing-3.1.2-py3-none-any.whl.metadata (5.1 kB)\n",
      "Requirement already satisfied: python-dateutil>=2.7 in c:\\programdata\\anaconda3\\envs\\datascience\\lib\\site-packages (from matplotlib) (2.9.0)\n",
      "Collecting importlib-resources>=3.2.0 (from matplotlib)\n",
      "  Using cached importlib_resources-6.4.0-py3-none-any.whl.metadata (3.9 kB)\n",
      "Requirement already satisfied: zipp>=3.1.0 in c:\\programdata\\anaconda3\\envs\\datascience\\lib\\site-packages (from importlib-resources>=3.2.0->matplotlib) (3.19.2)\n",
      "Requirement already satisfied: six>=1.5 in c:\\programdata\\anaconda3\\envs\\datascience\\lib\\site-packages (from python-dateutil>=2.7->matplotlib) (1.16.0)\n",
      "Downloading matplotlib-3.9.1-cp39-cp39-win_amd64.whl (8.0 MB)\n",
      "   ---------------------------------------- 0.0/8.0 MB ? eta -:--:--\n",
      "   ---------------------------------------- 0.1/8.0 MB 2.6 MB/s eta 0:00:03\n",
      "    --------------------------------------- 0.2/8.0 MB 2.6 MB/s eta 0:00:03\n",
      "   - -------------------------------------- 0.3/8.0 MB 2.1 MB/s eta 0:00:04\n",
      "   -- ------------------------------------- 0.4/8.0 MB 2.3 MB/s eta 0:00:04\n",
      "   -- ------------------------------------- 0.5/8.0 MB 2.4 MB/s eta 0:00:04\n",
      "   --- ------------------------------------ 0.7/8.0 MB 2.4 MB/s eta 0:00:03\n",
      "   ---- ----------------------------------- 0.8/8.0 MB 2.6 MB/s eta 0:00:03\n",
      "   ---- ----------------------------------- 0.9/8.0 MB 2.6 MB/s eta 0:00:03\n",
      "   ----- ---------------------------------- 1.1/8.0 MB 2.7 MB/s eta 0:00:03\n",
      "   ------ --------------------------------- 1.2/8.0 MB 2.6 MB/s eta 0:00:03\n",
      "   ------ --------------------------------- 1.4/8.0 MB 2.7 MB/s eta 0:00:03\n",
      "   ------- -------------------------------- 1.5/8.0 MB 2.7 MB/s eta 0:00:03\n",
      "   -------- ------------------------------- 1.7/8.0 MB 2.9 MB/s eta 0:00:03\n",
      "   -------- ------------------------------- 1.8/8.0 MB 2.9 MB/s eta 0:00:03\n",
      "   ---------- ----------------------------- 2.0/8.0 MB 3.0 MB/s eta 0:00:03\n",
      "   ---------- ----------------------------- 2.1/8.0 MB 2.9 MB/s eta 0:00:03\n",
      "   ----------- ---------------------------- 2.3/8.0 MB 3.0 MB/s eta 0:00:02\n",
      "   ------------ --------------------------- 2.5/8.0 MB 3.0 MB/s eta 0:00:02\n",
      "   ------------ --------------------------- 2.6/8.0 MB 3.0 MB/s eta 0:00:02\n",
      "   ------------- -------------------------- 2.7/8.0 MB 3.0 MB/s eta 0:00:02\n",
      "   -------------- ------------------------- 2.8/8.0 MB 2.9 MB/s eta 0:00:02\n",
      "   -------------- ------------------------- 3.0/8.0 MB 2.9 MB/s eta 0:00:02\n",
      "   --------------- ------------------------ 3.1/8.0 MB 2.9 MB/s eta 0:00:02\n",
      "   ---------------- ----------------------- 3.3/8.0 MB 3.0 MB/s eta 0:00:02\n",
      "   ----------------- ---------------------- 3.4/8.0 MB 3.0 MB/s eta 0:00:02\n",
      "   ----------------- ---------------------- 3.6/8.0 MB 3.0 MB/s eta 0:00:02\n",
      "   ------------------ --------------------- 3.7/8.0 MB 3.0 MB/s eta 0:00:02\n",
      "   ------------------- -------------------- 3.9/8.0 MB 3.0 MB/s eta 0:00:02\n",
      "   -------------------- ------------------- 4.0/8.0 MB 3.0 MB/s eta 0:00:02\n",
      "   -------------------- ------------------- 4.2/8.0 MB 3.0 MB/s eta 0:00:02\n",
      "   --------------------- ------------------ 4.3/8.0 MB 3.0 MB/s eta 0:00:02\n",
      "   ---------------------- ----------------- 4.4/8.0 MB 3.0 MB/s eta 0:00:02\n",
      "   ----------------------- ---------------- 4.6/8.0 MB 3.0 MB/s eta 0:00:02\n",
      "   ----------------------- ---------------- 4.7/8.0 MB 3.0 MB/s eta 0:00:02\n",
      "   ------------------------ --------------- 4.9/8.0 MB 3.0 MB/s eta 0:00:01\n",
      "   -------------------------- ------------- 5.2/8.0 MB 3.1 MB/s eta 0:00:01\n",
      "   --------------------------- ------------ 5.4/8.0 MB 3.1 MB/s eta 0:00:01\n",
      "   ---------------------------- ----------- 5.6/8.0 MB 3.1 MB/s eta 0:00:01\n",
      "   ---------------------------- ----------- 5.8/8.0 MB 3.1 MB/s eta 0:00:01\n",
      "   ----------------------------- ---------- 5.9/8.0 MB 3.1 MB/s eta 0:00:01\n",
      "   ------------------------------ --------- 6.0/8.0 MB 3.1 MB/s eta 0:00:01\n",
      "   ------------------------------ --------- 6.1/8.0 MB 3.0 MB/s eta 0:00:01\n",
      "   ------------------------------ --------- 6.1/8.0 MB 3.0 MB/s eta 0:00:01\n",
      "   ------------------------------ --------- 6.1/8.0 MB 3.0 MB/s eta 0:00:01\n",
      "   ------------------------------- -------- 6.2/8.0 MB 2.9 MB/s eta 0:00:01\n",
      "   ------------------------------- -------- 6.3/8.0 MB 2.9 MB/s eta 0:00:01\n",
      "   -------------------------------- ------- 6.4/8.0 MB 2.9 MB/s eta 0:00:01\n",
      "   -------------------------------- ------- 6.6/8.0 MB 2.9 MB/s eta 0:00:01\n",
      "   --------------------------------- ------ 6.6/8.0 MB 2.8 MB/s eta 0:00:01\n",
      "   --------------------------------- ------ 6.7/8.0 MB 2.8 MB/s eta 0:00:01\n",
      "   ---------------------------------- ----- 6.8/8.0 MB 2.8 MB/s eta 0:00:01\n",
      "   ---------------------------------- ----- 6.9/8.0 MB 2.8 MB/s eta 0:00:01\n",
      "   ---------------------------------- ----- 6.9/8.0 MB 2.8 MB/s eta 0:00:01\n",
      "   ----------------------------------- ---- 7.1/8.0 MB 2.7 MB/s eta 0:00:01\n",
      "   ------------------------------------ --- 7.4/8.0 MB 2.8 MB/s eta 0:00:01\n",
      "   ------------------------------------- -- 7.5/8.0 MB 2.7 MB/s eta 0:00:01\n",
      "   -------------------------------------- - 7.6/8.0 MB 2.7 MB/s eta 0:00:01\n",
      "   -------------------------------------- - 7.7/8.0 MB 2.7 MB/s eta 0:00:01\n",
      "   ---------------------------------------  7.8/8.0 MB 2.7 MB/s eta 0:00:01\n",
      "   ---------------------------------------  7.9/8.0 MB 2.7 MB/s eta 0:00:01\n",
      "   ---------------------------------------  8.0/8.0 MB 2.7 MB/s eta 0:00:01\n",
      "   ---------------------------------------- 8.0/8.0 MB 2.7 MB/s eta 0:00:00\n",
      "Downloading contourpy-1.2.1-cp39-cp39-win_amd64.whl (182 kB)\n",
      "   ---------------------------------------- 0.0/182.8 kB ? eta -:--:--\n",
      "   ------------- -------------------------- 61.4/182.8 kB 3.2 MB/s eta 0:00:01\n",
      "   --------------------------------- ------ 153.6/182.8 kB 1.8 MB/s eta 0:00:01\n",
      "   ---------------------------------------- 182.8/182.8 kB 1.8 MB/s eta 0:00:00\n",
      "Using cached cycler-0.12.1-py3-none-any.whl (8.3 kB)\n",
      "Downloading fonttools-4.53.1-cp39-cp39-win_amd64.whl (2.2 MB)\n",
      "   ---------------------------------------- 0.0/2.2 MB ? eta -:--:--\n",
      "   -- ------------------------------------- 0.2/2.2 MB 3.1 MB/s eta 0:00:01\n",
      "   ------ --------------------------------- 0.4/2.2 MB 3.7 MB/s eta 0:00:01\n",
      "   --------- ------------------------------ 0.5/2.2 MB 3.7 MB/s eta 0:00:01\n",
      "   ------------- -------------------------- 0.7/2.2 MB 3.9 MB/s eta 0:00:01\n",
      "   ---------------- ----------------------- 0.9/2.2 MB 3.8 MB/s eta 0:00:01\n",
      "   ------------------ --------------------- 1.0/2.2 MB 3.6 MB/s eta 0:00:01\n",
      "   ------------------- -------------------- 1.1/2.2 MB 3.4 MB/s eta 0:00:01\n",
      "   -------------------- ------------------- 1.2/2.2 MB 3.1 MB/s eta 0:00:01\n",
      "   ---------------------- ----------------- 1.2/2.2 MB 2.9 MB/s eta 0:00:01\n",
      "   ------------------------ --------------- 1.4/2.2 MB 2.9 MB/s eta 0:00:01\n",
      "   -------------------------- ------------- 1.5/2.2 MB 2.9 MB/s eta 0:00:01\n",
      "   ---------------------------- ----------- 1.6/2.2 MB 2.8 MB/s eta 0:00:01\n",
      "   ----------------------------- ---------- 1.6/2.2 MB 2.7 MB/s eta 0:00:01\n",
      "   -------------------------------- ------- 1.8/2.2 MB 2.7 MB/s eta 0:00:01\n",
      "   ---------------------------------- ----- 1.9/2.2 MB 2.7 MB/s eta 0:00:01\n",
      "   ------------------------------------ --- 2.0/2.2 MB 2.6 MB/s eta 0:00:01\n",
      "   -------------------------------------- - 2.1/2.2 MB 2.6 MB/s eta 0:00:01\n",
      "   ---------------------------------------- 2.2/2.2 MB 2.6 MB/s eta 0:00:00\n",
      "Using cached importlib_resources-6.4.0-py3-none-any.whl (38 kB)\n",
      "Downloading kiwisolver-1.4.5-cp39-cp39-win_amd64.whl (56 kB)\n",
      "   ---------------------------------------- 0.0/56.2 kB ? eta -:--:--\n",
      "   ---------------------------------------- 56.2/56.2 kB 2.9 MB/s eta 0:00:00\n",
      "Downloading numpy-2.0.0-cp39-cp39-win_amd64.whl (16.5 MB)\n",
      "   ---------------------------------------- 0.0/16.5 MB ? eta -:--:--\n",
      "    --------------------------------------- 0.2/16.5 MB 4.6 MB/s eta 0:00:04\n",
      "   - -------------------------------------- 0.5/16.5 MB 4.9 MB/s eta 0:00:04\n",
      "   - -------------------------------------- 0.7/16.5 MB 5.0 MB/s eta 0:00:04\n",
      "   - -------------------------------------- 0.8/16.5 MB 4.2 MB/s eta 0:00:04\n",
      "   -- ------------------------------------- 0.9/16.5 MB 4.0 MB/s eta 0:00:04\n",
      "   -- ------------------------------------- 0.9/16.5 MB 3.6 MB/s eta 0:00:05\n",
      "   -- ------------------------------------- 0.9/16.5 MB 3.6 MB/s eta 0:00:05\n",
      "   -- ------------------------------------- 1.0/16.5 MB 2.6 MB/s eta 0:00:06\n",
      "   -- ------------------------------------- 1.2/16.5 MB 2.7 MB/s eta 0:00:06\n",
      "   --- ------------------------------------ 1.3/16.5 MB 2.9 MB/s eta 0:00:06\n",
      "   --- ------------------------------------ 1.5/16.5 MB 2.9 MB/s eta 0:00:06\n",
      "   ---- ----------------------------------- 1.7/16.5 MB 3.0 MB/s eta 0:00:06\n",
      "   ---- ----------------------------------- 1.9/16.5 MB 3.1 MB/s eta 0:00:05\n",
      "   ---- ----------------------------------- 2.0/16.5 MB 3.1 MB/s eta 0:00:05\n",
      "   ----- ---------------------------------- 2.2/16.5 MB 3.1 MB/s eta 0:00:05\n",
      "   ----- ---------------------------------- 2.4/16.5 MB 3.2 MB/s eta 0:00:05\n",
      "   ----- ---------------------------------- 2.5/16.5 MB 3.1 MB/s eta 0:00:05\n",
      "   ------ --------------------------------- 2.5/16.5 MB 3.1 MB/s eta 0:00:05\n",
      "   ------ --------------------------------- 2.7/16.5 MB 3.1 MB/s eta 0:00:05\n",
      "   ------ --------------------------------- 2.9/16.5 MB 3.1 MB/s eta 0:00:05\n",
      "   ------- -------------------------------- 3.0/16.5 MB 3.0 MB/s eta 0:00:05\n",
      "   ------- -------------------------------- 3.1/16.5 MB 3.1 MB/s eta 0:00:05\n",
      "   ------- -------------------------------- 3.2/16.5 MB 3.0 MB/s eta 0:00:05\n",
      "   -------- ------------------------------- 3.3/16.5 MB 3.0 MB/s eta 0:00:05\n",
      "   -------- ------------------------------- 3.4/16.5 MB 3.0 MB/s eta 0:00:05\n",
      "   -------- ------------------------------- 3.4/16.5 MB 3.0 MB/s eta 0:00:05\n",
      "   -------- ------------------------------- 3.6/16.5 MB 2.8 MB/s eta 0:00:05\n",
      "   --------- ------------------------------ 3.7/16.5 MB 2.8 MB/s eta 0:00:05\n",
      "   --------- ------------------------------ 3.8/16.5 MB 2.8 MB/s eta 0:00:05\n",
      "   --------- ------------------------------ 4.0/16.5 MB 2.8 MB/s eta 0:00:05\n",
      "   --------- ------------------------------ 4.1/16.5 MB 2.8 MB/s eta 0:00:05\n",
      "   ---------- ----------------------------- 4.3/16.5 MB 2.8 MB/s eta 0:00:05\n",
      "   ---------- ----------------------------- 4.4/16.5 MB 2.8 MB/s eta 0:00:05\n",
      "   ---------- ----------------------------- 4.5/16.5 MB 2.8 MB/s eta 0:00:05\n",
      "   ----------- ---------------------------- 4.6/16.5 MB 2.8 MB/s eta 0:00:05\n",
      "   ----------- ---------------------------- 4.7/16.5 MB 2.7 MB/s eta 0:00:05\n",
      "   ----------- ---------------------------- 4.9/16.5 MB 2.8 MB/s eta 0:00:05\n",
      "   ------------ --------------------------- 5.0/16.5 MB 2.8 MB/s eta 0:00:05\n",
      "   ------------ --------------------------- 5.1/16.5 MB 2.8 MB/s eta 0:00:05\n",
      "   ------------ --------------------------- 5.2/16.5 MB 2.7 MB/s eta 0:00:05\n",
      "   ------------ --------------------------- 5.3/16.5 MB 2.7 MB/s eta 0:00:05\n",
      "   ------------- -------------------------- 5.5/16.5 MB 2.7 MB/s eta 0:00:05\n",
      "   ------------- -------------------------- 5.7/16.5 MB 2.8 MB/s eta 0:00:04\n",
      "   ------------- -------------------------- 5.8/16.5 MB 2.8 MB/s eta 0:00:04\n",
      "   -------------- ------------------------- 6.0/16.5 MB 2.8 MB/s eta 0:00:04\n",
      "   -------------- ------------------------- 6.1/16.5 MB 2.8 MB/s eta 0:00:04\n",
      "   --------------- ------------------------ 6.3/16.5 MB 2.8 MB/s eta 0:00:04\n",
      "   --------------- ------------------------ 6.4/16.5 MB 2.8 MB/s eta 0:00:04\n",
      "   --------------- ------------------------ 6.5/16.5 MB 2.8 MB/s eta 0:00:04\n",
      "   ---------------- ----------------------- 6.8/16.5 MB 2.8 MB/s eta 0:00:04\n",
      "   ---------------- ----------------------- 7.0/16.5 MB 2.9 MB/s eta 0:00:04\n",
      "   ----------------- ---------------------- 7.2/16.5 MB 2.9 MB/s eta 0:00:04\n",
      "   ----------------- ---------------------- 7.3/16.5 MB 2.9 MB/s eta 0:00:04\n",
      "   ------------------ --------------------- 7.5/16.5 MB 3.0 MB/s eta 0:00:04\n",
      "   ------------------ --------------------- 7.8/16.5 MB 3.0 MB/s eta 0:00:03\n",
      "   ------------------- -------------------- 8.0/16.5 MB 3.0 MB/s eta 0:00:03\n",
      "   -------------------- ------------------- 8.3/16.5 MB 3.1 MB/s eta 0:00:03\n",
      "   -------------------- ------------------- 8.6/16.5 MB 3.1 MB/s eta 0:00:03\n",
      "   --------------------- ------------------ 8.8/16.5 MB 3.2 MB/s eta 0:00:03\n",
      "   --------------------- ------------------ 9.0/16.5 MB 3.2 MB/s eta 0:00:03\n",
      "   ---------------------- ----------------- 9.2/16.5 MB 3.2 MB/s eta 0:00:03\n",
      "   ---------------------- ----------------- 9.3/16.5 MB 3.2 MB/s eta 0:00:03\n",
      "   ---------------------- ----------------- 9.4/16.5 MB 3.1 MB/s eta 0:00:03\n",
      "   ----------------------- ---------------- 9.6/16.5 MB 3.1 MB/s eta 0:00:03\n",
      "   ----------------------- ---------------- 9.9/16.5 MB 3.2 MB/s eta 0:00:03\n",
      "   ------------------------ --------------- 10.0/16.5 MB 3.1 MB/s eta 0:00:03\n",
      "   ------------------------ --------------- 10.2/16.5 MB 3.2 MB/s eta 0:00:02\n",
      "   ------------------------- -------------- 10.4/16.5 MB 3.1 MB/s eta 0:00:02\n",
      "   ------------------------- -------------- 10.6/16.5 MB 3.1 MB/s eta 0:00:02\n",
      "   ------------------------- -------------- 10.7/16.5 MB 3.1 MB/s eta 0:00:02\n",
      "   -------------------------- ------------- 10.9/16.5 MB 3.1 MB/s eta 0:00:02\n",
      "   -------------------------- ------------- 11.1/16.5 MB 3.1 MB/s eta 0:00:02\n",
      "   --------------------------- ------------ 11.3/16.5 MB 3.3 MB/s eta 0:00:02\n",
      "   --------------------------- ------------ 11.5/16.5 MB 3.3 MB/s eta 0:00:02\n",
      "   ---------------------------- ----------- 11.7/16.5 MB 3.3 MB/s eta 0:00:02\n",
      "   ---------------------------- ----------- 11.9/16.5 MB 3.3 MB/s eta 0:00:02\n",
      "   ---------------------------- ----------- 11.9/16.5 MB 3.3 MB/s eta 0:00:02\n",
      "   ----------------------------- ---------- 12.1/16.5 MB 3.3 MB/s eta 0:00:02\n",
      "   ----------------------------- ---------- 12.3/16.5 MB 3.3 MB/s eta 0:00:02\n",
      "   ------------------------------ --------- 12.5/16.5 MB 3.3 MB/s eta 0:00:02\n",
      "   ------------------------------ --------- 12.7/16.5 MB 3.3 MB/s eta 0:00:02\n",
      "   ------------------------------- -------- 12.9/16.5 MB 3.3 MB/s eta 0:00:02\n",
      "   ------------------------------- -------- 13.1/16.5 MB 3.3 MB/s eta 0:00:02\n",
      "   -------------------------------- ------- 13.3/16.5 MB 3.4 MB/s eta 0:00:01\n",
      "   -------------------------------- ------- 13.4/16.5 MB 3.4 MB/s eta 0:00:01\n",
      "   -------------------------------- ------- 13.5/16.5 MB 3.4 MB/s eta 0:00:01\n",
      "   --------------------------------- ------ 13.7/16.5 MB 3.4 MB/s eta 0:00:01\n",
      "   --------------------------------- ------ 13.8/16.5 MB 3.4 MB/s eta 0:00:01\n",
      "   --------------------------------- ------ 14.0/16.5 MB 3.5 MB/s eta 0:00:01\n",
      "   ---------------------------------- ----- 14.1/16.5 MB 3.5 MB/s eta 0:00:01\n",
      "   ---------------------------------- ----- 14.2/16.5 MB 3.5 MB/s eta 0:00:01\n",
      "   ---------------------------------- ----- 14.4/16.5 MB 3.5 MB/s eta 0:00:01\n",
      "   ----------------------------------- ---- 14.6/16.5 MB 3.6 MB/s eta 0:00:01\n",
      "   ----------------------------------- ---- 14.7/16.5 MB 3.5 MB/s eta 0:00:01\n",
      "   ----------------------------------- ---- 14.8/16.5 MB 3.6 MB/s eta 0:00:01\n",
      "   ------------------------------------ --- 14.9/16.5 MB 3.5 MB/s eta 0:00:01\n",
      "   ------------------------------------ --- 15.0/16.5 MB 3.5 MB/s eta 0:00:01\n",
      "   ------------------------------------ --- 15.2/16.5 MB 3.5 MB/s eta 0:00:01\n",
      "   ------------------------------------- -- 15.3/16.5 MB 3.6 MB/s eta 0:00:01\n",
      "   ------------------------------------- -- 15.5/16.5 MB 3.6 MB/s eta 0:00:01\n",
      "   ------------------------------------- -- 15.7/16.5 MB 3.6 MB/s eta 0:00:01\n",
      "   -------------------------------------- - 15.8/16.5 MB 3.6 MB/s eta 0:00:01\n",
      "   -------------------------------------- - 16.0/16.5 MB 3.6 MB/s eta 0:00:01\n",
      "   ---------------------------------------  16.1/16.5 MB 3.6 MB/s eta 0:00:01\n",
      "   ---------------------------------------  16.3/16.5 MB 3.6 MB/s eta 0:00:01\n",
      "   ---------------------------------------  16.4/16.5 MB 3.6 MB/s eta 0:00:01\n",
      "   ---------------------------------------  16.5/16.5 MB 3.6 MB/s eta 0:00:01\n",
      "   ---------------------------------------- 16.5/16.5 MB 3.6 MB/s eta 0:00:00\n",
      "Downloading pillow-10.4.0-cp39-cp39-win_amd64.whl (2.6 MB)\n",
      "   ---------------------------------------- 0.0/2.6 MB ? eta -:--:--\n",
      "   --- ------------------------------------ 0.2/2.6 MB 5.8 MB/s eta 0:00:01\n",
      "   ----- ---------------------------------- 0.3/2.6 MB 3.4 MB/s eta 0:00:01\n",
      "   ------- -------------------------------- 0.5/2.6 MB 3.9 MB/s eta 0:00:01\n",
      "   --------- ------------------------------ 0.6/2.6 MB 3.3 MB/s eta 0:00:01\n",
      "   ------------ --------------------------- 0.8/2.6 MB 3.3 MB/s eta 0:00:01\n",
      "   -------------- ------------------------- 0.9/2.6 MB 3.4 MB/s eta 0:00:01\n",
      "   ---------------- ----------------------- 1.1/2.6 MB 3.2 MB/s eta 0:00:01\n",
      "   ------------------- -------------------- 1.2/2.6 MB 3.4 MB/s eta 0:00:01\n",
      "   ---------------------- ----------------- 1.4/2.6 MB 3.4 MB/s eta 0:00:01\n",
      "   ------------------------ --------------- 1.6/2.6 MB 3.4 MB/s eta 0:00:01\n",
      "   -------------------------- ------------- 1.7/2.6 MB 3.4 MB/s eta 0:00:01\n",
      "   ----------------------------- ---------- 1.9/2.6 MB 3.4 MB/s eta 0:00:01\n",
      "   ------------------------------- -------- 2.0/2.6 MB 3.3 MB/s eta 0:00:01\n",
      "   --------------------------------- ------ 2.2/2.6 MB 3.3 MB/s eta 0:00:01\n",
      "   ----------------------------------- ---- 2.3/2.6 MB 3.3 MB/s eta 0:00:01\n",
      "   ------------------------------------- -- 2.4/2.6 MB 3.3 MB/s eta 0:00:01\n",
      "   ---------------------------------------  2.5/2.6 MB 3.2 MB/s eta 0:00:01\n",
      "   ---------------------------------------- 2.6/2.6 MB 3.1 MB/s eta 0:00:00\n",
      "Using cached pyparsing-3.1.2-py3-none-any.whl (103 kB)\n",
      "Installing collected packages: pyparsing, pillow, numpy, kiwisolver, importlib-resources, fonttools, cycler, contourpy, matplotlib\n",
      "Successfully installed contourpy-1.2.1 cycler-0.12.1 fonttools-4.53.1 importlib-resources-6.4.0 kiwisolver-1.4.5 matplotlib-3.9.1 numpy-2.0.0 pillow-10.4.0 pyparsing-3.1.2\n"
     ]
    }
   ],
   "source": [
    "!pip install matplotlib "
   ]
  },
  {
   "cell_type": "code",
   "execution_count": 1,
   "metadata": {},
   "outputs": [],
   "source": [
    "import matplotlib.pyplot as plt"
   ]
  },
  {
   "attachments": {},
   "cell_type": "markdown",
   "metadata": {},
   "source": [
    "## Basic Graph"
   ]
  },
  {
   "attachments": {},
   "cell_type": "markdown",
   "metadata": {},
   "source": []
  },
  {
   "cell_type": "code",
   "execution_count": 58,
   "metadata": {},
   "outputs": [
    {
     "data": {
      "image/png": "[encoded data removed]",
      "text/plain": [
       "<Figure size 640x480 with 1 Axes>"
      ]
     },
     "metadata": {},
     "output_type": "display_data"
    }
   ],
   "source": [
    "x = [1  , 2 , 3]\n",
    "y = [_*2 for _ in x]\n",
    "title = 'Demo Graph'\n",
    "plt.title(title)\n",
    "plt.xlabel('Single')\n",
    "plt.ylabel('Double')\n",
    "\n",
    "## Marker , Color , Line\n",
    "\n",
    "plt.plot(x ,y , label='2x', linestyle='--' ,  c='#01f' , linewidth=1 , marker='|' , markersize=12 )\n",
    "\n",
    "## Line \n",
    "\n",
    "plt.xticks([0 , 1 , 2 ,3])\n",
    "plt.legend()\n",
    "plt.show()"
   ]
  },
  {
   "cell_type": "code",
   "execution_count": 59,
   "metadata": {},
   "outputs": [],
   "source": [
    "import numpy as np"
   ]
  },
  {
   "cell_type": "code",
   "execution_count": 138,
   "metadata": {},
   "outputs": [
    {
     "ename": "TypeError",
     "evalue": "savefig() missing 1 required positional argument: 'fname'",
     "output_type": "error",
     "traceback": [
      "\u001b[1;31m---------------------------------------------------------------------------\u001b[0m",
      "\u001b[1;31mTypeError\u001b[0m                                 Traceback (most recent call last)",
      "Cell \u001b[1;32mIn[138], line 5\u001b[0m\n\u001b[0;32m      3\u001b[0m plt\u001b[39m.\u001b[39mtitle(\u001b[39m\"\u001b[39m\u001b[39mSquared Value\u001b[39m\u001b[39m\"\u001b[39m)\n\u001b[0;32m      4\u001b[0m plt\u001b[39m.\u001b[39mfigure(figsize\u001b[39m=\u001b[39m(\u001b[39m5\u001b[39m , \u001b[39m3\u001b[39m))\n\u001b[1;32m----> 5\u001b[0m plt\u001b[39m.\u001b[39;49msavefig()\n\u001b[0;32m      6\u001b[0m plt\u001b[39m.\u001b[39mshow()\n",
      "File \u001b[1;32mc:\\ProgramData\\anaconda3\\envs\\datascience\\lib\\site-packages\\matplotlib\\pyplot.py:1228\u001b[0m, in \u001b[0;36msavefig\u001b[1;34m(*args, **kwargs)\u001b[0m\n\u001b[0;32m   1225\u001b[0m fig \u001b[39m=\u001b[39m gcf()\n\u001b[0;32m   1226\u001b[0m \u001b[39m# savefig default implementation has no return, so mypy is unhappy\u001b[39;00m\n\u001b[0;32m   1227\u001b[0m \u001b[39m# presumably this is here because subclasses can return?\u001b[39;00m\n\u001b[1;32m-> 1228\u001b[0m res \u001b[39m=\u001b[39m fig\u001b[39m.\u001b[39msavefig(\u001b[39m*\u001b[39margs, \u001b[39m*\u001b[39m\u001b[39m*\u001b[39mkwargs)  \u001b[39m# type: ignore[func-returns-value]\u001b[39;00m\n\u001b[0;32m   1229\u001b[0m fig\u001b[39m.\u001b[39mcanvas\u001b[39m.\u001b[39mdraw_idle()  \u001b[39m# Need this if 'transparent=True', to reset colors.\u001b[39;00m\n\u001b[0;32m   1230\u001b[0m \u001b[39mreturn\u001b[39;00m res\n",
      "\u001b[1;31mTypeError\u001b[0m: savefig() missing 1 required positional argument: 'fname'"
     ]
    },
    {
     "data": {
      "image/png": "[encoded data removed]",
      "text/plain": [
       "<Figure size 640x480 with 1 Axes>"
      ]
     },
     "metadata": {},
     "output_type": "display_data"
    },
    {
     "data": {
      "text/plain": [
       "<Figure size 500x300 with 0 Axes>"
      ]
     },
     "metadata": {},
     "output_type": "display_data"
    }
   ],
   "source": [
    "count = np.arange(1 , 10 , 0.3)\n",
    "plt.plot(count , count ** 3 , 'ro--' ,label = 'square'  )\n",
    "plt.title(\"Squared Value\")\n",
    "plt.figure(figsize=(5 , 3)) \n",
    "plt.show()"
   ]
  },
  {
   "attachments": {},
   "cell_type": "markdown",
   "metadata": {},
   "source": [
    "## Bar Chart"
   ]
  },
  {
   "cell_type": "markdown",
   "metadata": {},
   "source": []
  },
  {
   "cell_type": "code",
   "execution_count": 153,
   "metadata": {},
   "outputs": [
    {
     "data": {
      "image/png": "[encoded data removed]",
      "text/plain": [
       "<Figure size 640x480 with 1 Axes>"
      ]
     },
     "metadata": {},
     "output_type": "display_data"
    }
   ],
   "source": [
    "val = [3 , 5, 1,2 ,9 , 4]\n",
    "val.append(1)\n",
    "bar = plt.bar( ['A' , 'B' , 'C' , 'D' , 'E' , 'F' , 'G'] , val )\n",
    "bar[0].set_hatch('/')\n",
    "bar[1].set_hatch('*')\n"
   ]
  },
  {
   "cell_type": "code",
   "execution_count": 155,
   "metadata": {},
   "outputs": [
    {
     "name": "stdout",
     "output_type": "stream",
     "text": [
      "Collecting pandas\n",
      "  Using cached pandas-2.2.2-cp39-cp39-win_amd64.whl.metadata (19 kB)\n",
      "Requirement already satisfied: numpy>=1.22.4 in c:\\programdata\\anaconda3\\envs\\datascience\\lib\\site-packages (from pandas) (2.0.0)\n",
      "Requirement already satisfied: python-dateutil>=2.8.2 in c:\\programdata\\anaconda3\\envs\\datascience\\lib\\site-packages (from pandas) (2.9.0)\n",
      "Collecting pytz>=2020.1 (from pandas)\n",
      "  Using cached pytz-2024.1-py2.py3-none-any.whl.metadata (22 kB)\n",
      "Collecting tzdata>=2022.7 (from pandas)\n",
      "  Using cached tzdata-2024.1-py2.py3-none-any.whl.metadata (1.4 kB)\n",
      "Requirement already satisfied: six>=1.5 in c:\\programdata\\anaconda3\\envs\\datascience\\lib\\site-packages (from python-dateutil>=2.8.2->pandas) (1.16.0)\n",
      "Downloading pandas-2.2.2-cp39-cp39-win_amd64.whl (11.6 MB)\n",
      "   ---------------------------------------- 0.0/11.6 MB ? eta -:--:--\n",
      "   ---------------------------------------- 0.0/11.6 MB 991.0 kB/s eta 0:00:12\n",
      "    --------------------------------------- 0.2/11.6 MB 2.1 MB/s eta 0:00:06\n",
      "   - -------------------------------------- 0.5/11.6 MB 3.9 MB/s eta 0:00:03\n",
      "   --- ------------------------------------ 1.0/11.6 MB 5.8 MB/s eta 0:00:02\n",
      "   ----- ---------------------------------- 1.5/11.6 MB 6.7 MB/s eta 0:00:02\n",
      "   ------- -------------------------------- 2.1/11.6 MB 8.0 MB/s eta 0:00:02\n",
      "   -------- ------------------------------- 2.4/11.6 MB 8.0 MB/s eta 0:00:02\n",
      "   ---------- ----------------------------- 3.0/11.6 MB 8.7 MB/s eta 0:00:01\n",
      "   ------------ --------------------------- 3.8/11.6 MB 8.9 MB/s eta 0:00:01\n",
      "   ---------------- ----------------------- 4.7/11.6 MB 9.7 MB/s eta 0:00:01\n",
      "   ------------------- -------------------- 5.7/11.6 MB 10.4 MB/s eta 0:00:01\n",
      "   ----------------------- ---------------- 6.7/11.6 MB 11.0 MB/s eta 0:00:01\n",
      "   ------------------------- -------------- 7.5/11.6 MB 11.5 MB/s eta 0:00:01\n",
      "   ---------------------------- ----------- 8.4/11.6 MB 11.9 MB/s eta 0:00:01\n",
      "   -------------------------------- ------- 9.4/11.6 MB 12.5 MB/s eta 0:00:01\n",
      "   ------------------------------------ --- 10.6/11.6 MB 14.9 MB/s eta 0:00:01\n",
      "   ---------------------------------------  11.6/11.6 MB 16.0 MB/s eta 0:00:01\n",
      "   ---------------------------------------- 11.6/11.6 MB 15.2 MB/s eta 0:00:00\n",
      "Using cached pytz-2024.1-py2.py3-none-any.whl (505 kB)\n",
      "Using cached tzdata-2024.1-py2.py3-none-any.whl (345 kB)\n",
      "Installing collected packages: pytz, tzdata, pandas\n",
      "Successfully installed pandas-2.2.2 pytz-2024.1 tzdata-2024.1\n"
     ]
    }
   ],
   "source": [
    "!pip install pandas\n",
    "import pandas as pd"
   ]
  },
  {
   "cell_type": "code",
   "execution_count": 156,
   "metadata": {},
   "outputs": [],
   "source": [
    "data = pd.read_csv('./gas_prices.csv')"
   ]
  },
  {
   "cell_type": "code",
   "execution_count": 172,
   "metadata": {},
   "outputs": [
    {
     "data": {
      "text/html": [
       "<div>\n",
       "<style scoped>\n",
       "    .dataframe tbody tr th:only-of-type {\n",
       "        vertical-align: middle;\n",
       "    }\n",
       "\n",
       "    .dataframe tbody tr th {\n",
       "        vertical-align: top;\n",
       "    }\n",
       "\n",
       "    .dataframe thead th {\n",
       "        text-align: right;\n",
       "    }\n",
       "</style>\n",
       "<table border=\"1\" class=\"dataframe\">\n",
       "  <thead>\n",
       "    <tr style=\"text-align: right;\">\n",
       "      <th></th>\n",
       "      <th>Year</th>\n",
       "      <th>Australia</th>\n",
       "      <th>Canada</th>\n",
       "      <th>France</th>\n",
       "      <th>Germany</th>\n",
       "      <th>Italy</th>\n",
       "      <th>Japan</th>\n",
       "      <th>Mexico</th>\n",
       "      <th>South Korea</th>\n",
       "      <th>UK</th>\n",
       "      <th>USA</th>\n",
       "    </tr>\n",
       "  </thead>\n",
       "  <tbody>\n",
       "    <tr>\n",
       "      <th>0</th>\n",
       "      <td>1990</td>\n",
       "      <td>NaN</td>\n",
       "      <td>1.87</td>\n",
       "      <td>3.63</td>\n",
       "      <td>2.65</td>\n",
       "      <td>4.59</td>\n",
       "      <td>3.16</td>\n",
       "      <td>1.0</td>\n",
       "      <td>2.05</td>\n",
       "      <td>2.82</td>\n",
       "      <td>1.16</td>\n",
       "    </tr>\n",
       "    <tr>\n",
       "      <th>1</th>\n",
       "      <td>1991</td>\n",
       "      <td>1.96</td>\n",
       "      <td>1.92</td>\n",
       "      <td>3.45</td>\n",
       "      <td>2.90</td>\n",
       "      <td>4.50</td>\n",
       "      <td>3.46</td>\n",
       "      <td>1.3</td>\n",
       "      <td>2.49</td>\n",
       "      <td>3.01</td>\n",
       "      <td>1.14</td>\n",
       "    </tr>\n",
       "    <tr>\n",
       "      <th>2</th>\n",
       "      <td>1992</td>\n",
       "      <td>1.89</td>\n",
       "      <td>1.73</td>\n",
       "      <td>3.56</td>\n",
       "      <td>3.27</td>\n",
       "      <td>4.53</td>\n",
       "      <td>3.58</td>\n",
       "      <td>1.5</td>\n",
       "      <td>2.65</td>\n",
       "      <td>3.06</td>\n",
       "      <td>1.13</td>\n",
       "    </tr>\n",
       "  </tbody>\n",
       "</table>\n",
       "</div>"
      ],
      "text/plain": [
       "   Year  Australia  Canada  France  Germany  Italy  Japan  Mexico  \\\n",
       "0  1990        NaN    1.87    3.63     2.65   4.59   3.16     1.0   \n",
       "1  1991       1.96    1.92    3.45     2.90   4.50   3.46     1.3   \n",
       "2  1992       1.89    1.73    3.56     3.27   4.53   3.58     1.5   \n",
       "\n",
       "   South Korea    UK   USA  \n",
       "0         2.05  2.82  1.16  \n",
       "1         2.49  3.01  1.14  \n",
       "2         2.65  3.06  1.13  "
      ]
     },
     "execution_count": 172,
     "metadata": {},
     "output_type": "execute_result"
    }
   ],
   "source": [
    "data.head(3)"
   ]
  },
  {
   "cell_type": "code",
   "execution_count": 199,
   "metadata": {},
   "outputs": [
    {
     "data": {
      "text/plain": [
       "<BarContainer object of 10 artists>"
      ]
     },
     "execution_count": 199,
     "metadata": {},
     "output_type": "execute_result"
    },
    {
     "data": {
      "image/png": "[encoded data removed]",
      "text/plain": [
       "<Figure size 640x480 with 1 Axes>"
      ]
     },
     "metadata": {},
     "output_type": "display_data"
    }
   ],
   "source": [
    "plt.bar(np.array(data.columns[1 ::]) , data.iloc[1].values[1 : :] )"
   ]
  },
  {
   "cell_type": "code",
   "execution_count": 177,
   "metadata": {},
   "outputs": [
    {
     "data": {
      "text/plain": [
       "array(['Australia', 'Canada', 'France', 'Germany', 'Italy', 'Japan',\n",
       "       'Mexico', 'South Korea', 'UK', 'USA'], dtype=object)"
      ]
     },
     "execution_count": 177,
     "metadata": {},
     "output_type": "execute_result"
    }
   ],
   "source": [
    "np.array(data.columns[1 :])"
   ]
  },
  {
   "cell_type": "code",
   "execution_count": 183,
   "metadata": {},
   "outputs": [
    {
     "data": {
      "text/plain": [
       "Index(['Year', 'Australia', 'Canada', 'France', 'Germany', 'Italy', 'Japan',\n",
       "       'Mexico', 'South Korea', 'UK', 'USA'],\n",
       "      dtype='object')"
      ]
     },
     "execution_count": 183,
     "metadata": {},
     "output_type": "execute_result"
    }
   ],
   "source": [
    "data['Year']\n",
    "data.iloc[1].index"
   ]
  },
  {
   "cell_type": "code",
   "execution_count": 197,
   "metadata": {},
   "outputs": [
    {
     "data": {
      "text/plain": [
       "array([1.96, 1.92, 3.45, 2.9 , 4.5 , 3.46, 1.3 , 2.49, 3.01, 1.14])"
      ]
     },
     "execution_count": 197,
     "metadata": {},
     "output_type": "execute_result"
    }
   ],
   "source": [
    "data.iloc[1].values[1 : : ]"
   ]
  },
  {
   "cell_type": "code",
   "execution_count": null,
   "metadata": {},
   "outputs": [],
   "source": []
  }
 ],
 "metadata": {
  "kernelspec": {
   "display_name": "datascience",
   "language": "python",
   "name": "python3"
  },
  "language_info": {
   "codemirror_mode": {
    "name": "ipython",
    "version": 3
   },
   "file_extension": ".py",
   "mimetype": "text/x-python",
   "name": "python",
   "nbconvert_exporter": "python",
   "pygments_lexer": "ipython3",
   "version": "3.9.0"
  },
  "orig_nbformat": 4
 },
 "nbformat": 4,
 "nbformat_minor": 2
}
